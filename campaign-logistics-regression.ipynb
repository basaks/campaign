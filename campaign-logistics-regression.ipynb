{
 "cells": [
  {
   "cell_type": "code",
   "execution_count": 1,
   "metadata": {},
   "outputs": [
    {
     "name": "stdout",
     "output_type": "stream",
     "text": [
      "Using classifier:  LogisticRegression\n",
      "Using feature selection:  True\n",
      "Using feature significance test:  False\n",
      "imblearn sampling algo: SMOTE\n",
      "Significance level during RFE 0.1\n",
      "Number of RFE features 20\n",
      "Which type of model: \n",
      " Only campaign:  True ; Only non campaign:  False\n",
      "Selected categorical features:\n",
      " ['job', 'marital', 'education', 'default', 'housing', 'loan', 'contact', 'month', 'day_of_week', 'poutcome']\n",
      "Selected oridnal columns:\n",
      " ['age', 'cons.price.idx', 'cons.conf.idx', 'y']\n"
     ]
    }
   ],
   "source": [
    "import importlib\n",
    "import config, campaign\n",
    "importlib.reload(config)\n",
    "importlib.reload(campaign)\n",
    "\n",
    "print('Using classifier: ', config.classifier.__class__.__name__)\n",
    "print('Using feature selection: ', config.feature_selection)\n",
    "print('Using feature significance test: ', config.significance_test)\n",
    "print('imblearn sampling algo:', config.sampling_algo.__class__.__name__)\n",
    "print('Significance level during RFE', config.alpha)\n",
    "print('Number of RFE features', config.no_selected_rfe)\n",
    "print('Which type of model: \\n', 'Only campaign: ', config.only_campaign, \n",
    "      '; Only non campaign: ', config.only_non_campaign)\n",
    "print('Selected categorical features:\\n', config.selected_categorical_features)\n",
    "print('Selected oridnal columns:\\n', config.selected_ordinal_features)\n"
   ]
  },
  {
   "cell_type": "code",
   "execution_count": 2,
   "metadata": {},
   "outputs": [],
   "source": [
    "X, y = campaign.data_prep(config)"
   ]
  },
  {
   "cell_type": "code",
   "execution_count": 3,
   "metadata": {},
   "outputs": [
    {
     "name": "stdout",
     "output_type": "stream",
     "text": [
      "Before balancing dataset and feature selection\n",
      "================================================================================\n",
      "Accuracy on test set: 0.88\n",
      "Test Set confusion matrix:\n",
      "    pred_0  pred_1\n",
      "0    4555      63\n",
      "1     569     106\n",
      "Classification Report:\n",
      " {'precision': 0.6272189349112426, 'recall': 0.15703703703703703, 'f1-score': 0.2511848341232228, 'support': 675, 'fbeta2': 0.6091607396870555}\n",
      "Classification report:\n",
      " {'0': {'precision': 0.8889539422326308, 'recall': 0.9863577306193158, 'f1-score': 0.9351262574420037, 'support': 4618}, '1': {'precision': 0.6272189349112426, 'recall': 0.15703703703703703, 'f1-score': 0.2511848341232228, 'support': 675, 'fbeta2': 0.6091607396870555}, 'micro avg': {'precision': 0.8805970149253731, 'recall': 0.8805970149253731, 'f1-score': 0.8805970149253731, 'support': 5293}, 'macro avg': {'precision': 0.7580864385719367, 'recall': 0.5716973838281764, 'f1-score': 0.5931555457826132, 'support': 5293}, 'weighted avg': {'precision': 0.8555756822776078, 'recall': 0.8805970149253731, 'f1-score': 0.8479053126582938, 'support': 5293}}\n",
      "Before balancing dataset and feture selection: only overweighting minority class proportional to class ratios\n",
      "Classifier weights:  {0: 1, 1: 6.670434782608695}\n",
      "================================================================================\n",
      "Accuracy on test set: 0.78\n",
      "Test Set confusion matrix:\n",
      "    pred_0  pred_1\n",
      "0    3682     936\n",
      "1     230     445\n",
      "Classification Report:\n",
      " {'precision': 0.3222302679217958, 'recall': 0.6592592592592592, 'f1-score': 0.43287937743190663, 'support': 675, 'fbeta2': 0.32386957304990094}\n",
      "Classification report:\n",
      " {'0': {'precision': 0.9412065439672802, 'recall': 0.7973148549155479, 'f1-score': 0.8633059788980071, 'support': 4618}, '1': {'precision': 0.3222302679217958, 'recall': 0.6592592592592592, 'f1-score': 0.43287937743190663, 'support': 675, 'fbeta2': 0.32386957304990094}, 'micro avg': {'precision': 0.7797090496882675, 'recall': 0.7797090496882675, 'f1-score': 0.7797090496882675, 'support': 5293}, 'macro avg': {'precision': 0.631718405944538, 'recall': 0.7282870570874036, 'f1-score': 0.6480926781649569, 'support': 5293}, 'weighted avg': {'precision': 0.862270404475366, 'recall': 0.7797090496882675, 'f1-score': 0.8084149991153474, 'support': 5293}}\n",
      "Model with f1-score: 0.43287937743190663 found\n",
      "====>>>>Best model chosen<<<<=====\n",
      "\n",
      "\n",
      "Running gridsearch ....\n",
      "\n",
      "\n",
      "\n",
      "Scores after grid search:\n",
      "================================================================================\n",
      "Accuracy on test set: 0.79\n",
      "Test Set confusion matrix:\n",
      "    pred_0  pred_1\n",
      "0    3771     847\n",
      "1     239     436\n",
      "Classification Report:\n",
      " {'precision': 0.33982852689010135, 'recall': 0.6459259259259259, 'f1-score': 0.4453524004085802, 'support': 675, 'fbeta2': 0.34143050978871875}\n",
      "Classification report:\n",
      " {'0': {'precision': 0.9403990024937656, 'recall': 0.8165872672152447, 'f1-score': 0.8741307371349096, 'support': 4618}, '1': {'precision': 0.33982852689010135, 'recall': 0.6459259259259259, 'f1-score': 0.4453524004085802, 'support': 675, 'fbeta2': 0.34143050978871875}, 'micro avg': {'precision': 0.7948233515964481, 'recall': 0.7948233515964481, 'f1-score': 0.794823351596448, 'support': 5293}, 'macro avg': {'precision': 0.6401137646919335, 'recall': 0.7312565965705853, 'f1-score': 0.659741568771745, 'support': 5293}, 'weighted avg': {'precision': 0.86381009808559, 'recall': 0.7948233515964481, 'f1-score': 0.8194499554817314, 'support': 5293}}\n",
      "Model with f1-score: 0.4453524004085802 found\n",
      "====>>>>Best model chosen<<<<=====\n",
      "================Balancing dataset==================================\n",
      "================================================================================\n",
      "Accuracy on test set: 0.80\n",
      "Test Set confusion matrix:\n",
      "    pred_0  pred_1\n",
      "0    3781     837\n",
      "1     244     431\n",
      "Classification Report:\n",
      " {'precision': 0.33990536277602523, 'recall': 0.6385185185185185, 'f1-score': 0.4436438497169326, 'support': 675, 'fbeta2': 0.34148656599333205}\n",
      "Classification report:\n",
      " {'0': {'precision': 0.9393788819875777, 'recall': 0.8187527067994803, 'f1-score': 0.874927687145667, 'support': 4618}, '1': {'precision': 0.33990536277602523, 'recall': 0.6385185185185185, 'f1-score': 0.4436438497169326, 'support': 675, 'fbeta2': 0.34148656599333205}, 'micro avg': {'precision': 0.7957679954657094, 'recall': 0.7957679954657094, 'f1-score': 0.7957679954657094, 'support': 5293}, 'macro avg': {'precision': 0.6396421223818014, 'recall': 0.7286356126589995, 'f1-score': 0.6592857684312998, 'support': 5293}, 'weighted avg': {'precision': 0.8629298690520406, 'recall': 0.7957679954657094, 'f1-score': 0.8199273866989647, 'support': 5293}}\n",
      "Model with f1-score: 0.4436438497169326 found\n",
      "=======selecting features using RFE============================\n",
      "Selected the following columns based on RFE:\n",
      " ['previous', 'job_admin.', 'job_retired', 'job_student', 'marital_divorced', 'marital_unknown', 'default_no', 'contact_cellular', 'contact_telephone', 'month_aug', 'month_dec', 'month_jul', 'month_mar', 'month_may', 'month_nov', 'month_oct', 'day_of_week_mon', 'poutcome_failure', 'poutcome_nonexistent', 'poutcome_success']\n",
      "================================================================================\n",
      "Accuracy on test set: 0.80\n",
      "Test Set confusion matrix:\n",
      "    pred_0  pred_1\n",
      "0    3800     818\n",
      "1     253     422\n",
      "Classification Report:\n",
      " {'precision': 0.3403225806451613, 'recall': 0.6251851851851852, 'f1-score': 0.4407310704960835, 'support': 675, 'fbeta2': 0.34186484860637667}\n",
      "Classification report:\n",
      " {'0': {'precision': 0.9375771033802122, 'recall': 0.822867042009528, 'f1-score': 0.876484834505824, 'support': 4618}, '1': {'precision': 0.3403225806451613, 'recall': 0.6251851851851852, 'f1-score': 0.4407310704960835, 'support': 675, 'fbeta2': 0.34186484860637667}, 'micro avg': {'precision': 0.797657283204232, 'recall': 0.797657283204232, 'f1-score': 0.7976572832042321, 'support': 5293}, 'macro avg': {'precision': 0.6389498420126867, 'recall': 0.7240261135973566, 'f1-score': 0.6586079525009538, 'support': 5293}, 'weighted avg': {'precision': 0.8614110722360293, 'recall': 0.797657283204232, 'f1-score': 0.8209144980791142, 'support': 5293}}\n",
      "Model with f1-score: 0.4407310704960835 found\n"
     ]
    }
   ],
   "source": [
    "# this function returns the best model, the best f1-score etc\n",
    "clf, score, coefs, X_test, y_test = campaign.analyze(config, X, y)"
   ]
  },
  {
   "cell_type": "code",
   "execution_count": 4,
   "metadata": {},
   "outputs": [
    {
     "data": {
      "text/plain": [
       "<module 'utils' from '/home/sudiptra/repos/campaign/utils.py'>"
      ]
     },
     "execution_count": 4,
     "metadata": {},
     "output_type": "execute_result"
    }
   ],
   "source": [
    "import utils\n",
    "importlib.reload(utils)"
   ]
  },
  {
   "cell_type": "code",
   "execution_count": 5,
   "metadata": {},
   "outputs": [
    {
     "ename": "ValueError",
     "evalue": "X has 57 features per sample; expecting 20",
     "output_type": "error",
     "traceback": [
      "\u001b[0;31m---------------------------------------------------------------------------\u001b[0m",
      "\u001b[0;31mValueError\u001b[0m                                Traceback (most recent call last)",
      "\u001b[0;32m<ipython-input-5-01fdd6334e0e>\u001b[0m in \u001b[0;36m<module>\u001b[0;34m\u001b[0m\n\u001b[0;32m----> 1\u001b[0;31m \u001b[0mutils\u001b[0m\u001b[0;34m.\u001b[0m\u001b[0mplot_precision_recall_curve\u001b[0m\u001b[0;34m(\u001b[0m\u001b[0mclf\u001b[0m\u001b[0;34m,\u001b[0m \u001b[0mX_test\u001b[0m\u001b[0;34m[\u001b[0m\u001b[0mcoefs\u001b[0m\u001b[0;34m.\u001b[0m\u001b[0mkeys\u001b[0m\u001b[0;34m(\u001b[0m\u001b[0;34m)\u001b[0m\u001b[0;34m]\u001b[0m\u001b[0;34m,\u001b[0m \u001b[0my_test\u001b[0m\u001b[0;34m)\u001b[0m\u001b[0;34m\u001b[0m\u001b[0;34m\u001b[0m\u001b[0m\n\u001b[0m",
      "\u001b[0;32m~/repos/campaign/utils.py\u001b[0m in \u001b[0;36mplot_precision_recall_curve\u001b[0;34m(clf, X_test, y_test)\u001b[0m\n\u001b[1;32m     63\u001b[0m \u001b[0;32mdef\u001b[0m \u001b[0mplot_precision_recall_curve\u001b[0m\u001b[0;34m(\u001b[0m\u001b[0mclf\u001b[0m\u001b[0;34m,\u001b[0m \u001b[0mX_test\u001b[0m\u001b[0;34m,\u001b[0m \u001b[0my_test\u001b[0m\u001b[0;34m)\u001b[0m\u001b[0;34m:\u001b[0m\u001b[0;34m\u001b[0m\u001b[0;34m\u001b[0m\u001b[0m\n\u001b[1;32m     64\u001b[0m     \u001b[0;32mif\u001b[0m \u001b[0mhasattr\u001b[0m\u001b[0;34m(\u001b[0m\u001b[0mclf\u001b[0m\u001b[0;34m,\u001b[0m \u001b[0;34m'decision_function'\u001b[0m\u001b[0;34m)\u001b[0m\u001b[0;34m:\u001b[0m\u001b[0;34m\u001b[0m\u001b[0;34m\u001b[0m\u001b[0m\n\u001b[0;32m---> 65\u001b[0;31m         \u001b[0my_scores\u001b[0m \u001b[0;34m=\u001b[0m \u001b[0mclf\u001b[0m\u001b[0;34m.\u001b[0m\u001b[0mdecision_function\u001b[0m\u001b[0;34m(\u001b[0m\u001b[0mX_test\u001b[0m\u001b[0;34m)\u001b[0m\u001b[0;34m\u001b[0m\u001b[0;34m\u001b[0m\u001b[0m\n\u001b[0m\u001b[1;32m     66\u001b[0m     \u001b[0;32melif\u001b[0m \u001b[0mhasattr\u001b[0m\u001b[0;34m(\u001b[0m\u001b[0mclf\u001b[0m\u001b[0;34m,\u001b[0m \u001b[0;34m'predict_proba'\u001b[0m\u001b[0;34m)\u001b[0m\u001b[0;34m:\u001b[0m\u001b[0;34m\u001b[0m\u001b[0;34m\u001b[0m\u001b[0m\n\u001b[1;32m     67\u001b[0m         \u001b[0my_scores\u001b[0m \u001b[0;34m=\u001b[0m \u001b[0mclf\u001b[0m\u001b[0;34m.\u001b[0m\u001b[0mpredict_proba\u001b[0m\u001b[0;34m(\u001b[0m\u001b[0mX_test\u001b[0m\u001b[0;34m)\u001b[0m\u001b[0;34m[\u001b[0m\u001b[0;34m:\u001b[0m\u001b[0;34m,\u001b[0m \u001b[0;36m1\u001b[0m\u001b[0;34m]\u001b[0m\u001b[0;34m\u001b[0m\u001b[0;34m\u001b[0m\u001b[0m\n",
      "\u001b[0;32m~/venvs/gpy/lib/python3.6/site-packages/sklearn/linear_model/base.py\u001b[0m in \u001b[0;36mdecision_function\u001b[0;34m(self, X)\u001b[0m\n\u001b[1;32m    260\u001b[0m         \u001b[0;32mif\u001b[0m \u001b[0mX\u001b[0m\u001b[0;34m.\u001b[0m\u001b[0mshape\u001b[0m\u001b[0;34m[\u001b[0m\u001b[0;36m1\u001b[0m\u001b[0;34m]\u001b[0m \u001b[0;34m!=\u001b[0m \u001b[0mn_features\u001b[0m\u001b[0;34m:\u001b[0m\u001b[0;34m\u001b[0m\u001b[0;34m\u001b[0m\u001b[0m\n\u001b[1;32m    261\u001b[0m             raise ValueError(\"X has %d features per sample; expecting %d\"\n\u001b[0;32m--> 262\u001b[0;31m                              % (X.shape[1], n_features))\n\u001b[0m\u001b[1;32m    263\u001b[0m \u001b[0;34m\u001b[0m\u001b[0m\n\u001b[1;32m    264\u001b[0m         scores = safe_sparse_dot(X, self.coef_.T,\n",
      "\u001b[0;31mValueError\u001b[0m: X has 57 features per sample; expecting 20"
     ]
    }
   ],
   "source": [
    "utils.plot_precision_recall_curve(clf, X_test[coefs.keys()], y_test)"
   ]
  },
  {
   "cell_type": "code",
   "execution_count": null,
   "metadata": {},
   "outputs": [],
   "source": [
    "utils.precision_recall_threshold(clf, X_test[coefs.keys()], y_test, t=0.435)\n",
    "\n",
    "# close to our target FN~10FP"
   ]
  },
  {
   "cell_type": "code",
   "execution_count": null,
   "metadata": {},
   "outputs": [],
   "source": [
    "X_test.shape\n",
    "utils.plot_roc(clf, X_test[coefs.keys()], y_test)"
   ]
  },
  {
   "cell_type": "code",
   "execution_count": null,
   "metadata": {},
   "outputs": [],
   "source": [
    "# precision recall threshold curve\n",
    "utils.plot_precision_recall_vs_threshold(clf, X_test[coefs.keys()], y_test)\n"
   ]
  }
 ],
 "metadata": {
  "kernelspec": {
   "display_name": "Python 3",
   "language": "python",
   "name": "python3"
  },
  "language_info": {
   "codemirror_mode": {
    "name": "ipython",
    "version": 3
   },
   "file_extension": ".py",
   "mimetype": "text/x-python",
   "name": "python",
   "nbconvert_exporter": "python",
   "pygments_lexer": "ipython3",
   "version": "3.6.7"
  }
 },
 "nbformat": 4,
 "nbformat_minor": 2
}
